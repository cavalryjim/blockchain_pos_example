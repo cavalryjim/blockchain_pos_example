{
 "cells": [
  {
   "cell_type": "code",
   "execution_count": 30,
   "id": "3806100f",
   "metadata": {},
   "outputs": [],
   "source": [
    "import hashlib\n",
    "import json\n",
    "from datetime import datetime\n",
    "import random"
   ]
  },
  {
   "cell_type": "code",
   "execution_count": 31,
   "id": "567fb367",
   "metadata": {},
   "outputs": [],
   "source": [
    "# random.uniform(0, 10)"
   ]
  },
  {
   "cell_type": "code",
   "execution_count": 32,
   "id": "d2bde544",
   "metadata": {},
   "outputs": [],
   "source": [
    "class Block:\n",
    "    def __init__(self, index, previous_hash, timestamp, data, validator):\n",
    "        self.index = index\n",
    "        self.previous_hash = previous_hash\n",
    "        self.timestamp = timestamp\n",
    "        self.data = data\n",
    "        self.validator = validator\n",
    "        self.hash = self.calculate_hash()\n",
    "\n",
    "    def calculate_hash(self):\n",
    "        block_dict = self.__dict__\n",
    "        if 'hash' in block_dict:\n",
    "            del block_dict['hash']\n",
    "        block_string = json.dumps(block_dict, sort_keys=True).encode()\n",
    "        return hashlib.sha256(block_string).hexdigest()"
   ]
  },
  {
   "cell_type": "code",
   "execution_count": 60,
   "id": "da263272",
   "metadata": {},
   "outputs": [],
   "source": [
    "class Blockchain:\n",
    "    def __init__(self):\n",
    "        self.chain = []\n",
    "        self.unconfirmed_data = []\n",
    "        self.validators = {}\n",
    "        self.staked_tokens = {}\n",
    "        self.minimum_stake = 10\n",
    "        self.create_genesis_block()\n",
    "\n",
    "    def create_genesis_block(self):\n",
    "        genesis_block = Block(0, None, str(datetime.now()), \"Genesis Block\", None)\n",
    "        self.chain.append(genesis_block)\n",
    "\n",
    "    def last_block(self):\n",
    "        return self.chain[-1]\n",
    "\n",
    "    def add_data(self, new_data):\n",
    "        self.unconfirmed_data.append(new_data)\n",
    "\n",
    "    def add_validator(self, validator, stake):\n",
    "        if stake >= self.minimum_stake:\n",
    "            self.staked_tokens[validator] = stake\n",
    "            self.validators[validator] = True\n",
    "        else:\n",
    "            print(f\"{validator} does not meet the minimum stake requirement.\")\n",
    "            \n",
    "    def select_validator(self):\n",
    "        total_stake = sum(self.staked_tokens.values())\n",
    "        selected_validator = None\n",
    "        while selected_validator == None:\n",
    "            pick = random.uniform(0, total_stake)\n",
    "            print(pick)\n",
    "            current = 0\n",
    "            for validator, stake in self.staked_tokens.items():\n",
    "                print(validator, stake)\n",
    "                current += stake\n",
    "                if current > pick:\n",
    "                    selected_validator = validator\n",
    "                    break\n",
    "        return selected_validator\n",
    "\n",
    "    def create_block(self, validator):\n",
    "        if not self.unconfirmed_data:\n",
    "            return False\n",
    "        \n",
    "        last_block = self.last_block()\n",
    "        new_block = Block(index=last_block.index + 1, \n",
    "                          previous_hash=last_block.hash,\n",
    "                          timestamp=str(datetime.now()),\n",
    "                          data=self.unconfirmed_data,\n",
    "                          validator=validator)\n",
    "        self.chain.append(new_block)\n",
    "        self.unconfirmed_data = []\n",
    "        return new_block.index\n",
    "\n",
    "    def display_chain(self):\n",
    "        for block in self.chain:\n",
    "            print(f\"Block {block.__dict__}\")\n",
    "            "
   ]
  },
  {
   "cell_type": "code",
   "execution_count": 61,
   "id": "acc2481b",
   "metadata": {},
   "outputs": [],
   "source": [
    "# Create a Blockchain object\n",
    "blockchain = Blockchain()"
   ]
  },
  {
   "cell_type": "code",
   "execution_count": 62,
   "id": "7aac2591",
   "metadata": {},
   "outputs": [],
   "source": [
    "# Adding some validators\n",
    "blockchain.add_validator(1111, 50)\n",
    "blockchain.add_validator(1222, 30)\n",
    "blockchain.add_validator(1333, 20)"
   ]
  },
  {
   "cell_type": "code",
   "execution_count": 63,
   "id": "07edde8f",
   "metadata": {},
   "outputs": [],
   "source": [
    "blockchain.add_data(\"James earned 10 LSU_tokens\")\n",
    "blockchain.add_data(\"James pays Mike_the_tiger 5 LSU_tokens\")\n"
   ]
  },
  {
   "cell_type": "code",
   "execution_count": 64,
   "id": "b22e955e",
   "metadata": {},
   "outputs": [
    {
     "name": "stdout",
     "output_type": "stream",
     "text": [
      "26.929698226347163\n",
      "1111 50\n",
      "1222 30\n",
      "1333 20\n",
      "Validator selected: 1333\n"
     ]
    }
   ],
   "source": [
    "selected_validator = blockchain.select_validator()\n",
    "print(f\"Validator selected: {selected_validator}\")\n",
    "# blockchain.create_block(selected_validator)\n",
    "# blockchain.display_chain()"
   ]
  },
  {
   "cell_type": "code",
   "execution_count": null,
   "id": "c8dee62d",
   "metadata": {},
   "outputs": [],
   "source": []
  }
 ],
 "metadata": {
  "kernelspec": {
   "display_name": "Python 3 (ipykernel)",
   "language": "python",
   "name": "python3"
  },
  "language_info": {
   "codemirror_mode": {
    "name": "ipython",
    "version": 3
   },
   "file_extension": ".py",
   "mimetype": "text/x-python",
   "name": "python",
   "nbconvert_exporter": "python",
   "pygments_lexer": "ipython3",
   "version": "3.10.9"
  }
 },
 "nbformat": 4,
 "nbformat_minor": 5
}
